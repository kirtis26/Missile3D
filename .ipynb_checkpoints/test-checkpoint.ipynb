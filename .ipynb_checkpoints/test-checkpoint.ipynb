{
 "cells": [
  {
   "cell_type": "code",
   "execution_count": 1,
   "metadata": {},
   "outputs": [],
   "source": [
    "from GymFlight import GymFlight\n",
    "from easyvec import Vec3\n",
    "import numpy as np"
   ]
  },
  {
   "cell_type": "code",
   "execution_count": 2,
   "metadata": {},
   "outputs": [],
   "source": [
    "trg_opts = {\n",
    "        'pos': Vec3(8e3, 1.5e3, 0),\n",
    "        'pos_aim': Vec3(-100, 0, 100),\n",
    "        'vel': Vec3(-100, 10, 10),\n",
    "        'vel_aim': Vec3(-100, -10, -10)\n",
    "}"
   ]
  },
  {
   "cell_type": "code",
   "execution_count": 3,
   "metadata": {},
   "outputs": [],
   "source": [
    "mis_opts = {\n",
    "        'd': 0.230,\n",
    "        'L': 2.89,\n",
    "        'm_0': 165,\n",
    "        'v_0': 25,\n",
    "        't_marsh': 6,\n",
    "        'w_marsh': 53,\n",
    "        'P_marsh': 22.5 * 1e3,\n",
    "        'r_explosion': 50,\n",
    "        'angle_max': 12,\n",
    "        'a_m': 3,\n",
    "        'record': True,\n",
    "        'x_cm_0': 1.81,\n",
    "        'x_cm_k': 1.7,\n",
    "        'x_pres_0': 1.87,\n",
    "        'x_pres_k': 1.8,\n",
    "        'x_rule': 0.6,\n",
    "        'alpha': np.array([-10, -7, -5, -3, -1, 0, 1, 3, 5, 7, 10]),\n",
    "        'Mach': np.array([0.3, 0.6, 0.9, 1, 1.1, 1.4, 1.7, 2.0, 2.3]),\n",
    "        'delta': np.array([-15, 0, 15]),\n",
    "        'Cy_alpha': np.array([0.2, 0.3, 0.35, 0.4, 0.35, 0.3, 0.25, 0.225, 0.2]),\n",
    "        'Cy_delta': np.array([0.10, 0.15, 0.20, 0.25, 0.20, 0.15, 0.12, 0.11, 0.10]),\n",
    "        'mz_wz': np.array([-30, -35, -40, -40, -35, -30, -25, -20, -15]),\n",
    "        'mx_wx': np.array([-0.10, -0.15, -0.20, -0.25, -0.30, -0.35, -0.40, -0.45, -0.50]),\n",
    "        'mx_delta': np.array([0.05, 0.1, 0.15, 0.2, 0.25, 0.3, 0.35, 0.4, 0.45]),\n",
    "        'i': 1.0\n",
    "    }"
   ]
  },
  {
   "cell_type": "code",
   "execution_count": 4,
   "metadata": {},
   "outputs": [
    {
     "name": "stdout",
     "output_type": "stream",
     "text": [
      "Info launch missile: defeat\n"
     ]
    }
   ],
   "source": [
    "scenario = GymFlight.make_simple_scenario(mis_opts, trg_opts)\n",
    "scenario.run()"
   ]
  },
  {
   "cell_type": "code",
   "execution_count": 5,
   "metadata": {},
   "outputs": [
    {
     "data": {
      "text/plain": [
       "{'missile': array([ 6.93933808e+03,  1.54051282e+03,  1.04906725e+02,  7.73347423e+02,\n",
       "         2.22268718e+02,  1.01686212e+01,  0.00000000e+00,  3.12286863e-01,\n",
       "         1.48452578e-01,  9.76621283e-01, -1.53581519e-02,  1.44493702e-01,\n",
       "         1.58500598e-01,  3.40655045e-01, -3.47765395e-01,  1.10000000e+01]),\n",
       " 'target': array([ 6.90283785e+03,  1.52069165e+03,  1.00131384e+02, -9.95095111e+01,\n",
       "        -5.56909050e+00,  8.16112019e+00,  1.10000000e+01])}"
      ]
     },
     "execution_count": 5,
     "metadata": {},
     "output_type": "execute_result"
    }
   ],
   "source": [
    "scenario.get_state()"
   ]
  },
  {
   "cell_type": "code",
   "execution_count": 7,
   "metadata": {},
   "outputs": [],
   "source": [
    "scenario.plot()"
   ]
  },
  {
   "cell_type": "code",
   "execution_count": null,
   "metadata": {},
   "outputs": [],
   "source": []
  }
 ],
 "metadata": {
  "kernelspec": {
   "display_name": "Python 3 (ipykernel)",
   "language": "python",
   "name": "python3"
  },
  "language_info": {
   "codemirror_mode": {
    "name": "ipython",
    "version": 3
   },
   "file_extension": ".py",
   "mimetype": "text/x-python",
   "name": "python",
   "nbconvert_exporter": "python",
   "pygments_lexer": "ipython3",
   "version": "3.9.7"
  }
 },
 "nbformat": 4,
 "nbformat_minor": 4
}
