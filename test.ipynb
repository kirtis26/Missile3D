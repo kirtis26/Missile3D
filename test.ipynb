{
 "cells": [
  {
   "cell_type": "code",
   "execution_count": 135,
   "metadata": {},
   "outputs": [],
   "source": [
    "from GymFlight import GymFlight\n",
    "from easyvec import Vec3\n",
    "import numpy as np"
   ]
  },
  {
   "cell_type": "code",
   "execution_count": 223,
   "metadata": {},
   "outputs": [],
   "source": [
    "mis_opts = {\n",
    "        'd': 0.230,\n",
    "        'L': 2.89,\n",
    "        'm_0': 165,\n",
    "        'v_0': 25,\n",
    "        't_marsh': 6,\n",
    "        'w_marsh': 53,\n",
    "        'P_marsh': 22.5 * 1e3,\n",
    "        'r_explosion': 50,\n",
    "        'angle_max': 15,\n",
    "        'a_m': 10,\n",
    "        'x_cm_0': 1.81,\n",
    "        'x_cm_k': 1.7,\n",
    "        'x_pres_0': 1.87,\n",
    "        'x_pres_k': 1.8,\n",
    "        'x_rule': 0.6,\n",
    "        'alpha': np.array([-10, -7, -5, -3, -1, 0, 1, 3, 5, 7, 10]),\n",
    "        'Mach': np.array([0.3, 0.6, 0.9, 1, 1.1, 1.4, 1.7, 2.0, 2.3]),\n",
    "        'Cy_alpha': np.array([0.2, 0.3, 0.35, 0.4, 0.35, 0.3, 0.25, 0.225, 0.2]),\n",
    "        'Cy_delta': np.array([0.10, 0.15, 0.20, 0.25, 0.20, 0.15, 0.12, 0.11, 0.10]),\n",
    "        'mz_wz': np.array([-30, -35, -40, -40, -35, -30, -25, -20, -15]),\n",
    "        'i': 1.0\n",
    "    }\n",
    "\n",
    "trg_opts = {\n",
    "        'pos': Vec3(10e3, 3e3, 3e3),\n",
    "        'pos_aim': Vec3(-100, 0, -1e3),\n",
    "        'vel': Vec3(-100, 10, -50),\n",
    "        'vel_aim': Vec3(-100, -10, -10)\n",
    "}\n",
    "\n",
    "# 'mx_delta': np.array([0.05, 0.1, 0.15, 0.2, 0.25, 0.3, 0.35, 0.4, 0.45]),\n",
    "# 'mx_wx': np.array([-0.10, -0.15, -0.20, -0.25, -0.30, -0.35, -0.40, -0.45, -0.50]),"
   ]
  },
  {
   "cell_type": "code",
   "execution_count": null,
   "metadata": {},
   "outputs": [],
   "source": [
    "? GymFlight.make_scenario"
   ]
  },
  {
   "cell_type": "code",
   "execution_count": null,
   "metadata": {},
   "outputs": [],
   "source": [
    "? GymFlight.make_simple_scenario"
   ]
  },
  {
   "cell_type": "code",
   "execution_count": 11,
   "metadata": {},
   "outputs": [
    {
     "data": {
      "text/plain": [
       "{'random', 'sample_1', 'sample_2', 'sample_3', 'sample_4', 'standard'}"
      ]
     },
     "execution_count": 11,
     "metadata": {},
     "output_type": "execute_result"
    }
   ],
   "source": [
    "GymFlight.scenario_names"
   ]
  },
  {
   "cell_type": "code",
   "execution_count": 4,
   "metadata": {},
   "outputs": [
    {
     "name": "stdout",
     "output_type": "stream",
     "text": [
      "Info launch missile: count step max\n"
     ]
    }
   ],
   "source": [
    "# Инициилизирование сценария движения цели\n",
    "scenario = GymFlight.make_scenario(mis_opts,\n",
    "                                   scenario_name='standard',\n",
    "                                   n_step=2)\n",
    "# Запуск сценария\n",
    "scenario.run()"
   ]
  },
  {
   "cell_type": "code",
   "execution_count": 4,
   "metadata": {},
   "outputs": [],
   "source": [
    "# sample 1\n",
    "# a_m = 1\n",
    "trg_opts = {\n",
    "        'pos': Vec3(10e3, 3e3, 3e3),\n",
    "        'pos_aim': Vec3(-100, 0, -1e3),\n",
    "        'vel': Vec3(-100, 10, -50),\n",
    "        'vel_aim': Vec3(-100, -10, -10)\n",
    "}"
   ]
  },
  {
   "cell_type": "code",
   "execution_count": 12,
   "metadata": {},
   "outputs": [],
   "source": [
    "# sample 2\n",
    "# a_m = 1\n",
    "trg_opts = {\n",
    "        'pos': Vec3(10e3, 3e3, 0),\n",
    "        'pos_aim': Vec3(-100, 0, 0),\n",
    "        'vel': Vec3(-100, 10, 0),\n",
    "        'vel_aim': Vec3(-100, -10, 0)\n",
    "}"
   ]
  },
  {
   "cell_type": "code",
   "execution_count": 168,
   "metadata": {},
   "outputs": [],
   "source": [
    "# sample 3\n",
    "# a_m = 1\n",
    "trg_opts = {\n",
    "        'pos': Vec3(20e3, 2e3, 0),\n",
    "        'pos_aim': Vec3(-1e3, 0, -10e3),\n",
    "        'vel': Vec3(-100, -10, -100),\n",
    "        'vel_aim': Vec3(-100, -10, -100)\n",
    "}"
   ]
  },
  {
   "cell_type": "code",
   "execution_count": 76,
   "metadata": {},
   "outputs": [],
   "source": [
    "# sample 4\n",
    "trg_opts = {\n",
    "        'pos': Vec3(10e3, 4e3, 3e3),\n",
    "        'pos_aim': Vec3(1e3, 0, -5e3),\n",
    "        'vel': Vec3(-100, -10, -10),\n",
    "        'vel_aim': Vec3(-100, -10, -10)\n",
    "}"
   ]
  },
  {
   "cell_type": "code",
   "execution_count": 242,
   "metadata": {},
   "outputs": [],
   "source": [
    "# sample 5\n",
    "# a_m = 1\n",
    "trg_opts = {\n",
    "        'pos': Vec3(15e3, 2e3, 0),\n",
    "        'pos_aim': Vec3(-5e3, 0, -10e3),\n",
    "        'vel': Vec3(-10, -10, -300),\n",
    "        'vel_aim': Vec3(-350, -10, -10)\n",
    "}"
   ]
  },
  {
   "cell_type": "code",
   "execution_count": null,
   "metadata": {},
   "outputs": [],
   "source": [
    "# Инициилизирование сценария движения цели\n",
    "scenario = GymFlight.make_simple_scenario(mis_opts,\n",
    "                                          trg_opts,\n",
    "                                          tau=0.1,\n",
    "                                          n_step=100,\n",
    "                                          ndt=20)\n",
    "# Запуск сценария\n",
    "scenario.run()"
   ]
  },
  {
   "cell_type": "code",
   "execution_count": null,
   "metadata": {},
   "outputs": [],
   "source": [
    "scenario.plot(loc_legend='upper right', savefig=True, legend_size=8)"
   ]
  },
  {
   "cell_type": "code",
   "execution_count": null,
   "metadata": {},
   "outputs": [],
   "source": [
    "scenario.plot_trajectory(savefig=True, labelpad=-1)"
   ]
  },
  {
   "cell_type": "code",
   "execution_count": null,
   "metadata": {},
   "outputs": [],
   "source": [
    "scenario.plot_motion_parameters(savefig=True)"
   ]
  },
  {
   "cell_type": "code",
   "execution_count": null,
   "metadata": {},
   "outputs": [],
   "source": [
    "scenario.plot_forces_parameters(savefig=True)"
   ]
  },
  {
   "cell_type": "code",
   "execution_count": null,
   "metadata": {},
   "outputs": [],
   "source": [
    "res = scenario.to_dict()"
   ]
  },
  {
   "cell_type": "code",
   "execution_count": null,
   "metadata": {},
   "outputs": [],
   "source": []
  }
 ],
 "metadata": {
  "kernelspec": {
   "display_name": "Python 3 (ipykernel)",
   "language": "python",
   "name": "python3"
  },
  "language_info": {
   "codemirror_mode": {
    "name": "ipython",
    "version": 3
   },
   "file_extension": ".py",
   "mimetype": "text/x-python",
   "name": "python",
   "nbconvert_exporter": "python",
   "pygments_lexer": "ipython3",
   "version": "3.9.7"
  }
 },
 "nbformat": 4,
 "nbformat_minor": 4
}
